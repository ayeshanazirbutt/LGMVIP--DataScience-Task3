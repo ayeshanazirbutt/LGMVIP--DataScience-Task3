{
 "cells": [
  {
   "cell_type": "markdown",
   "metadata": {
    "id": "V0nVaHI0mope"
   },
   "source": [
    "<center><h1>TASK 3 LetsGrowMore</h1></center>\n",
    "<center><h1>Task#3 : Stock Market Prediction And Forecasting Using Stacked LSTM</h1></center>\n",
    "<center><h2 style=\"color: red ;background-color:pink;\" > LetsGrowMore <br>\n",
    "LGMVIP- JULY_2023 Data Science<br> By : Ayesha Nazir Butt </h2></center>\n"
   ]
  },
  {
   "cell_type": "markdown",
   "metadata": {
    "id": "2ld7KRZfnZ9l"
   },
   "source": [
    " 1) *Importing necessary Libraries*"
   ]
  },
  {
   "cell_type": "code",
   "execution_count": 1,
   "metadata": {
    "id": "hXdBtdNT5JiJ"
   },
   "outputs": [],
   "source": [
    "import numpy as np \n",
    "import pandas as pd\n",
    "import matplotlib.pyplot as plt\n",
    "from sklearn.preprocessing import MinMaxScaler"
   ]
  },
  {
   "cell_type": "markdown",
   "metadata": {
    "id": "fAjA10pc_20W"
   },
   "source": [
    " 2) *Data *Preprocessing**"
   ]
  },
  {
   "cell_type": "code",
   "execution_count": 2,
   "metadata": {
    "id": "v6FWbH4s65Jp"
   },
   "outputs": [],
   "source": [
    "df = pd.read_csv(\"https://raw.githubusercontent.com/mwitiderrick/stockprice/master/NSE-TATAGLOBAL.csv\")"
   ]
  },
  {
   "cell_type": "code",
   "execution_count": 3,
   "metadata": {
    "colab": {
     "base_uri": "https://localhost:8080/",
     "height": 206
    },
    "id": "QgTM1al87oks",
    "outputId": "773684e6-2530-4f66-8cb4-93e907f879a8"
   },
   "outputs": [
    {
     "data": {
      "text/html": [
       "<div>\n",
       "<style scoped>\n",
       "    .dataframe tbody tr th:only-of-type {\n",
       "        vertical-align: middle;\n",
       "    }\n",
       "\n",
       "    .dataframe tbody tr th {\n",
       "        vertical-align: top;\n",
       "    }\n",
       "\n",
       "    .dataframe thead th {\n",
       "        text-align: right;\n",
       "    }\n",
       "</style>\n",
       "<table border=\"1\" class=\"dataframe\">\n",
       "  <thead>\n",
       "    <tr style=\"text-align: right;\">\n",
       "      <th></th>\n",
       "      <th>Date</th>\n",
       "      <th>Open</th>\n",
       "      <th>High</th>\n",
       "      <th>Low</th>\n",
       "      <th>Last</th>\n",
       "      <th>Close</th>\n",
       "      <th>Total Trade Quantity</th>\n",
       "      <th>Turnover (Lacs)</th>\n",
       "    </tr>\n",
       "  </thead>\n",
       "  <tbody>\n",
       "    <tr>\n",
       "      <th>0</th>\n",
       "      <td>2018-09-28</td>\n",
       "      <td>234.05</td>\n",
       "      <td>235.95</td>\n",
       "      <td>230.20</td>\n",
       "      <td>233.50</td>\n",
       "      <td>233.75</td>\n",
       "      <td>3069914</td>\n",
       "      <td>7162.35</td>\n",
       "    </tr>\n",
       "    <tr>\n",
       "      <th>1</th>\n",
       "      <td>2018-09-27</td>\n",
       "      <td>234.55</td>\n",
       "      <td>236.80</td>\n",
       "      <td>231.10</td>\n",
       "      <td>233.80</td>\n",
       "      <td>233.25</td>\n",
       "      <td>5082859</td>\n",
       "      <td>11859.95</td>\n",
       "    </tr>\n",
       "    <tr>\n",
       "      <th>2</th>\n",
       "      <td>2018-09-26</td>\n",
       "      <td>240.00</td>\n",
       "      <td>240.00</td>\n",
       "      <td>232.50</td>\n",
       "      <td>235.00</td>\n",
       "      <td>234.25</td>\n",
       "      <td>2240909</td>\n",
       "      <td>5248.60</td>\n",
       "    </tr>\n",
       "    <tr>\n",
       "      <th>3</th>\n",
       "      <td>2018-09-25</td>\n",
       "      <td>233.30</td>\n",
       "      <td>236.75</td>\n",
       "      <td>232.00</td>\n",
       "      <td>236.25</td>\n",
       "      <td>236.10</td>\n",
       "      <td>2349368</td>\n",
       "      <td>5503.90</td>\n",
       "    </tr>\n",
       "    <tr>\n",
       "      <th>4</th>\n",
       "      <td>2018-09-24</td>\n",
       "      <td>233.55</td>\n",
       "      <td>239.20</td>\n",
       "      <td>230.75</td>\n",
       "      <td>234.00</td>\n",
       "      <td>233.30</td>\n",
       "      <td>3423509</td>\n",
       "      <td>7999.55</td>\n",
       "    </tr>\n",
       "  </tbody>\n",
       "</table>\n",
       "</div>"
      ],
      "text/plain": [
       "         Date    Open    High     Low    Last   Close  Total Trade Quantity  \\\n",
       "0  2018-09-28  234.05  235.95  230.20  233.50  233.75               3069914   \n",
       "1  2018-09-27  234.55  236.80  231.10  233.80  233.25               5082859   \n",
       "2  2018-09-26  240.00  240.00  232.50  235.00  234.25               2240909   \n",
       "3  2018-09-25  233.30  236.75  232.00  236.25  236.10               2349368   \n",
       "4  2018-09-24  233.55  239.20  230.75  234.00  233.30               3423509   \n",
       "\n",
       "   Turnover (Lacs)  \n",
       "0          7162.35  \n",
       "1         11859.95  \n",
       "2          5248.60  \n",
       "3          5503.90  \n",
       "4          7999.55  "
      ]
     },
     "execution_count": 3,
     "metadata": {},
     "output_type": "execute_result"
    }
   ],
   "source": [
    "df.head()"
   ]
  },
  {
   "cell_type": "code",
   "execution_count": 4,
   "metadata": {
    "colab": {
     "base_uri": "https://localhost:8080/",
     "height": 206
    },
    "id": "In7kl6ii_KYP",
    "outputId": "7e7fdf87-27fa-4d60-93b7-c7b70a05d0a6"
   },
   "outputs": [
    {
     "data": {
      "text/html": [
       "<div>\n",
       "<style scoped>\n",
       "    .dataframe tbody tr th:only-of-type {\n",
       "        vertical-align: middle;\n",
       "    }\n",
       "\n",
       "    .dataframe tbody tr th {\n",
       "        vertical-align: top;\n",
       "    }\n",
       "\n",
       "    .dataframe thead th {\n",
       "        text-align: right;\n",
       "    }\n",
       "</style>\n",
       "<table border=\"1\" class=\"dataframe\">\n",
       "  <thead>\n",
       "    <tr style=\"text-align: right;\">\n",
       "      <th></th>\n",
       "      <th>Date</th>\n",
       "      <th>Open</th>\n",
       "      <th>High</th>\n",
       "      <th>Low</th>\n",
       "      <th>Last</th>\n",
       "      <th>Close</th>\n",
       "      <th>Total Trade Quantity</th>\n",
       "      <th>Turnover (Lacs)</th>\n",
       "    </tr>\n",
       "  </thead>\n",
       "  <tbody>\n",
       "    <tr>\n",
       "      <th>2030</th>\n",
       "      <td>2010-07-27</td>\n",
       "      <td>117.6</td>\n",
       "      <td>119.50</td>\n",
       "      <td>112.00</td>\n",
       "      <td>118.80</td>\n",
       "      <td>118.65</td>\n",
       "      <td>586100</td>\n",
       "      <td>694.98</td>\n",
       "    </tr>\n",
       "    <tr>\n",
       "      <th>2031</th>\n",
       "      <td>2010-07-26</td>\n",
       "      <td>120.1</td>\n",
       "      <td>121.00</td>\n",
       "      <td>117.10</td>\n",
       "      <td>117.10</td>\n",
       "      <td>117.60</td>\n",
       "      <td>658440</td>\n",
       "      <td>780.01</td>\n",
       "    </tr>\n",
       "    <tr>\n",
       "      <th>2032</th>\n",
       "      <td>2010-07-23</td>\n",
       "      <td>121.8</td>\n",
       "      <td>121.95</td>\n",
       "      <td>120.25</td>\n",
       "      <td>120.35</td>\n",
       "      <td>120.65</td>\n",
       "      <td>281312</td>\n",
       "      <td>340.31</td>\n",
       "    </tr>\n",
       "    <tr>\n",
       "      <th>2033</th>\n",
       "      <td>2010-07-22</td>\n",
       "      <td>120.3</td>\n",
       "      <td>122.00</td>\n",
       "      <td>120.25</td>\n",
       "      <td>120.75</td>\n",
       "      <td>120.90</td>\n",
       "      <td>293312</td>\n",
       "      <td>355.17</td>\n",
       "    </tr>\n",
       "    <tr>\n",
       "      <th>2034</th>\n",
       "      <td>2010-07-21</td>\n",
       "      <td>122.1</td>\n",
       "      <td>123.00</td>\n",
       "      <td>121.05</td>\n",
       "      <td>121.10</td>\n",
       "      <td>121.55</td>\n",
       "      <td>658666</td>\n",
       "      <td>803.56</td>\n",
       "    </tr>\n",
       "  </tbody>\n",
       "</table>\n",
       "</div>"
      ],
      "text/plain": [
       "            Date   Open    High     Low    Last   Close  Total Trade Quantity  \\\n",
       "2030  2010-07-27  117.6  119.50  112.00  118.80  118.65                586100   \n",
       "2031  2010-07-26  120.1  121.00  117.10  117.10  117.60                658440   \n",
       "2032  2010-07-23  121.8  121.95  120.25  120.35  120.65                281312   \n",
       "2033  2010-07-22  120.3  122.00  120.25  120.75  120.90                293312   \n",
       "2034  2010-07-21  122.1  123.00  121.05  121.10  121.55                658666   \n",
       "\n",
       "      Turnover (Lacs)  \n",
       "2030           694.98  \n",
       "2031           780.01  \n",
       "2032           340.31  \n",
       "2033           355.17  \n",
       "2034           803.56  "
      ]
     },
     "execution_count": 4,
     "metadata": {},
     "output_type": "execute_result"
    }
   ],
   "source": [
    "df.tail()"
   ]
  },
  {
   "cell_type": "code",
   "execution_count": 5,
   "metadata": {},
   "outputs": [
    {
     "data": {
      "text/plain": [
       "Date                    0\n",
       "Open                    0\n",
       "High                    0\n",
       "Low                     0\n",
       "Last                    0\n",
       "Close                   0\n",
       "Total Trade Quantity    0\n",
       "Turnover (Lacs)         0\n",
       "dtype: int64"
      ]
     },
     "execution_count": 5,
     "metadata": {},
     "output_type": "execute_result"
    }
   ],
   "source": [
    "df.isnull().sum()\n"
   ]
  },
  {
   "cell_type": "code",
   "execution_count": 6,
   "metadata": {},
   "outputs": [
    {
     "data": {
      "text/plain": [
       "array([[<Axes: title={'center': 'Open'}>,\n",
       "        <Axes: title={'center': 'High'}>,\n",
       "        <Axes: title={'center': 'Low'}>],\n",
       "       [<Axes: title={'center': 'Last'}>,\n",
       "        <Axes: title={'center': 'Close'}>,\n",
       "        <Axes: title={'center': 'Total Trade Quantity'}>],\n",
       "       [<Axes: title={'center': 'Turnover (Lacs)'}>, <Axes: >, <Axes: >]],\n",
       "      dtype=object)"
      ]
     },
     "execution_count": 6,
     "metadata": {},
     "output_type": "execute_result"
    },
    {
     "data": {
      "image/png": "[encoded data removed]",
      "text/plain": [
       "<Figure size 640x480 with 9 Axes>"
      ]
     },
     "metadata": {},
     "output_type": "display_data"
    }
   ],
   "source": [
    "# Bar chart of dataset \n",
    "df.hist()"
   ]
  },
  {
   "cell_type": "code",
   "execution_count": 7,
   "metadata": {
    "scrolled": true
   },
   "outputs": [
    {
     "data": {
      "text/html": [
       "<div>\n",
       "<style scoped>\n",
       "    .dataframe tbody tr th:only-of-type {\n",
       "        vertical-align: middle;\n",
       "    }\n",
       "\n",
       "    .dataframe tbody tr th {\n",
       "        vertical-align: top;\n",
       "    }\n",
       "\n",
       "    .dataframe thead th {\n",
       "        text-align: right;\n",
       "    }\n",
       "</style>\n",
       "<table border=\"1\" class=\"dataframe\">\n",
       "  <thead>\n",
       "    <tr style=\"text-align: right;\">\n",
       "      <th></th>\n",
       "      <th>Open</th>\n",
       "      <th>High</th>\n",
       "      <th>Low</th>\n",
       "      <th>Last</th>\n",
       "      <th>Close</th>\n",
       "      <th>Total Trade Quantity</th>\n",
       "      <th>Turnover (Lacs)</th>\n",
       "    </tr>\n",
       "  </thead>\n",
       "  <tbody>\n",
       "    <tr>\n",
       "      <th>count</th>\n",
       "      <td>2035.000000</td>\n",
       "      <td>2035.000000</td>\n",
       "      <td>2035.000000</td>\n",
       "      <td>2035.000000</td>\n",
       "      <td>2035.00000</td>\n",
       "      <td>2.035000e+03</td>\n",
       "      <td>2035.000000</td>\n",
       "    </tr>\n",
       "    <tr>\n",
       "      <th>mean</th>\n",
       "      <td>149.713735</td>\n",
       "      <td>151.992826</td>\n",
       "      <td>147.293931</td>\n",
       "      <td>149.474251</td>\n",
       "      <td>149.45027</td>\n",
       "      <td>2.335681e+06</td>\n",
       "      <td>3899.980565</td>\n",
       "    </tr>\n",
       "    <tr>\n",
       "      <th>std</th>\n",
       "      <td>48.664509</td>\n",
       "      <td>49.413109</td>\n",
       "      <td>47.931958</td>\n",
       "      <td>48.732570</td>\n",
       "      <td>48.71204</td>\n",
       "      <td>2.091778e+06</td>\n",
       "      <td>4570.767877</td>\n",
       "    </tr>\n",
       "    <tr>\n",
       "      <th>min</th>\n",
       "      <td>81.100000</td>\n",
       "      <td>82.800000</td>\n",
       "      <td>80.000000</td>\n",
       "      <td>81.000000</td>\n",
       "      <td>80.95000</td>\n",
       "      <td>3.961000e+04</td>\n",
       "      <td>37.040000</td>\n",
       "    </tr>\n",
       "    <tr>\n",
       "      <th>25%</th>\n",
       "      <td>120.025000</td>\n",
       "      <td>122.100000</td>\n",
       "      <td>118.300000</td>\n",
       "      <td>120.075000</td>\n",
       "      <td>120.05000</td>\n",
       "      <td>1.146444e+06</td>\n",
       "      <td>1427.460000</td>\n",
       "    </tr>\n",
       "    <tr>\n",
       "      <th>50%</th>\n",
       "      <td>141.500000</td>\n",
       "      <td>143.400000</td>\n",
       "      <td>139.600000</td>\n",
       "      <td>141.100000</td>\n",
       "      <td>141.25000</td>\n",
       "      <td>1.783456e+06</td>\n",
       "      <td>2512.030000</td>\n",
       "    </tr>\n",
       "    <tr>\n",
       "      <th>75%</th>\n",
       "      <td>157.175000</td>\n",
       "      <td>159.400000</td>\n",
       "      <td>155.150000</td>\n",
       "      <td>156.925000</td>\n",
       "      <td>156.90000</td>\n",
       "      <td>2.813594e+06</td>\n",
       "      <td>4539.015000</td>\n",
       "    </tr>\n",
       "    <tr>\n",
       "      <th>max</th>\n",
       "      <td>327.700000</td>\n",
       "      <td>328.750000</td>\n",
       "      <td>321.650000</td>\n",
       "      <td>325.950000</td>\n",
       "      <td>325.75000</td>\n",
       "      <td>2.919102e+07</td>\n",
       "      <td>55755.080000</td>\n",
       "    </tr>\n",
       "  </tbody>\n",
       "</table>\n",
       "</div>"
      ],
      "text/plain": [
       "              Open         High          Low         Last       Close  \\\n",
       "count  2035.000000  2035.000000  2035.000000  2035.000000  2035.00000   \n",
       "mean    149.713735   151.992826   147.293931   149.474251   149.45027   \n",
       "std      48.664509    49.413109    47.931958    48.732570    48.71204   \n",
       "min      81.100000    82.800000    80.000000    81.000000    80.95000   \n",
       "25%     120.025000   122.100000   118.300000   120.075000   120.05000   \n",
       "50%     141.500000   143.400000   139.600000   141.100000   141.25000   \n",
       "75%     157.175000   159.400000   155.150000   156.925000   156.90000   \n",
       "max     327.700000   328.750000   321.650000   325.950000   325.75000   \n",
       "\n",
       "       Total Trade Quantity  Turnover (Lacs)  \n",
       "count          2.035000e+03      2035.000000  \n",
       "mean           2.335681e+06      3899.980565  \n",
       "std            2.091778e+06      4570.767877  \n",
       "min            3.961000e+04        37.040000  \n",
       "25%            1.146444e+06      1427.460000  \n",
       "50%            1.783456e+06      2512.030000  \n",
       "75%            2.813594e+06      4539.015000  \n",
       "max            2.919102e+07     55755.080000  "
      ]
     },
     "execution_count": 7,
     "metadata": {},
     "output_type": "execute_result"
    }
   ],
   "source": [
    "#show the overall of the dataset\n",
    "df.describe()"
   ]
  },
  {
   "cell_type": "code",
   "execution_count": 8,
   "metadata": {
    "colab": {
     "base_uri": "https://localhost:8080/",
     "height": 206
    },
    "id": "7l7BvUdS_Qq1",
    "outputId": "1e3b23d3-7ade-4ffe-dae3-2f64abd29ab7"
   },
   "outputs": [
    {
     "data": {
      "text/html": [
       "<div>\n",
       "<style scoped>\n",
       "    .dataframe tbody tr th:only-of-type {\n",
       "        vertical-align: middle;\n",
       "    }\n",
       "\n",
       "    .dataframe tbody tr th {\n",
       "        vertical-align: top;\n",
       "    }\n",
       "\n",
       "    .dataframe thead th {\n",
       "        text-align: right;\n",
       "    }\n",
       "</style>\n",
       "<table border=\"1\" class=\"dataframe\">\n",
       "  <thead>\n",
       "    <tr style=\"text-align: right;\">\n",
       "      <th></th>\n",
       "      <th>Date</th>\n",
       "      <th>Open</th>\n",
       "      <th>High</th>\n",
       "      <th>Low</th>\n",
       "      <th>Last</th>\n",
       "      <th>Close</th>\n",
       "      <th>Total Trade Quantity</th>\n",
       "      <th>Turnover (Lacs)</th>\n",
       "    </tr>\n",
       "  </thead>\n",
       "  <tbody>\n",
       "    <tr>\n",
       "      <th>2034</th>\n",
       "      <td>2010-07-21</td>\n",
       "      <td>122.1</td>\n",
       "      <td>123.00</td>\n",
       "      <td>121.05</td>\n",
       "      <td>121.10</td>\n",
       "      <td>121.55</td>\n",
       "      <td>658666</td>\n",
       "      <td>803.56</td>\n",
       "    </tr>\n",
       "    <tr>\n",
       "      <th>2033</th>\n",
       "      <td>2010-07-22</td>\n",
       "      <td>120.3</td>\n",
       "      <td>122.00</td>\n",
       "      <td>120.25</td>\n",
       "      <td>120.75</td>\n",
       "      <td>120.90</td>\n",
       "      <td>293312</td>\n",
       "      <td>355.17</td>\n",
       "    </tr>\n",
       "    <tr>\n",
       "      <th>2032</th>\n",
       "      <td>2010-07-23</td>\n",
       "      <td>121.8</td>\n",
       "      <td>121.95</td>\n",
       "      <td>120.25</td>\n",
       "      <td>120.35</td>\n",
       "      <td>120.65</td>\n",
       "      <td>281312</td>\n",
       "      <td>340.31</td>\n",
       "    </tr>\n",
       "    <tr>\n",
       "      <th>2031</th>\n",
       "      <td>2010-07-26</td>\n",
       "      <td>120.1</td>\n",
       "      <td>121.00</td>\n",
       "      <td>117.10</td>\n",
       "      <td>117.10</td>\n",
       "      <td>117.60</td>\n",
       "      <td>658440</td>\n",
       "      <td>780.01</td>\n",
       "    </tr>\n",
       "    <tr>\n",
       "      <th>2030</th>\n",
       "      <td>2010-07-27</td>\n",
       "      <td>117.6</td>\n",
       "      <td>119.50</td>\n",
       "      <td>112.00</td>\n",
       "      <td>118.80</td>\n",
       "      <td>118.65</td>\n",
       "      <td>586100</td>\n",
       "      <td>694.98</td>\n",
       "    </tr>\n",
       "  </tbody>\n",
       "</table>\n",
       "</div>"
      ],
      "text/plain": [
       "           Date   Open    High     Low    Last   Close  Total Trade Quantity  \\\n",
       "2034 2010-07-21  122.1  123.00  121.05  121.10  121.55                658666   \n",
       "2033 2010-07-22  120.3  122.00  120.25  120.75  120.90                293312   \n",
       "2032 2010-07-23  121.8  121.95  120.25  120.35  120.65                281312   \n",
       "2031 2010-07-26  120.1  121.00  117.10  117.10  117.60                658440   \n",
       "2030 2010-07-27  117.6  119.50  112.00  118.80  118.65                586100   \n",
       "\n",
       "      Turnover (Lacs)  \n",
       "2034           803.56  \n",
       "2033           355.17  \n",
       "2032           340.31  \n",
       "2031           780.01  \n",
       "2030           694.98  "
      ]
     },
     "execution_count": 8,
     "metadata": {},
     "output_type": "execute_result"
    }
   ],
   "source": [
    "\n",
    "#convert the 'Date' column to datetime format:\n",
    "df['Date'] = pd.to_datetime(df['Date'])\n",
    "#Sort the DataFrame based on the 'Date' column:\n",
    "df = df.sort_values(by='Date')\n",
    "#Display the head of the sorted DataFrame:\n",
    "df.head()"
   ]
  },
  {
   "cell_type": "markdown",
   "metadata": {
    "id": "SocBuv-fCpUm"
   },
   "source": [
    "  3) *Making Ordered Indexes*"
   ]
  },
  {
   "cell_type": "code",
   "execution_count": 9,
   "metadata": {
    "id": "WCuBWxR4CoWI"
   },
   "outputs": [],
   "source": [
    "df.reset_index(drop=True, inplace=True)\n",
    "ordered_index = df.head()"
   ]
  },
  {
   "cell_type": "code",
   "execution_count": 10,
   "metadata": {
    "colab": {
     "base_uri": "https://localhost:8080/",
     "height": 206
    },
    "id": "Dh55ei9kDHMl",
    "outputId": "81a58356-0e79-4ebc-a8f3-86c973378249"
   },
   "outputs": [
    {
     "data": {
      "text/html": [
       "<div>\n",
       "<style scoped>\n",
       "    .dataframe tbody tr th:only-of-type {\n",
       "        vertical-align: middle;\n",
       "    }\n",
       "\n",
       "    .dataframe tbody tr th {\n",
       "        vertical-align: top;\n",
       "    }\n",
       "\n",
       "    .dataframe thead th {\n",
       "        text-align: right;\n",
       "    }\n",
       "</style>\n",
       "<table border=\"1\" class=\"dataframe\">\n",
       "  <thead>\n",
       "    <tr style=\"text-align: right;\">\n",
       "      <th></th>\n",
       "      <th>Date</th>\n",
       "      <th>Open</th>\n",
       "      <th>High</th>\n",
       "      <th>Low</th>\n",
       "      <th>Last</th>\n",
       "      <th>Close</th>\n",
       "      <th>Total Trade Quantity</th>\n",
       "      <th>Turnover (Lacs)</th>\n",
       "    </tr>\n",
       "  </thead>\n",
       "  <tbody>\n",
       "    <tr>\n",
       "      <th>0</th>\n",
       "      <td>2010-07-21</td>\n",
       "      <td>122.1</td>\n",
       "      <td>123.00</td>\n",
       "      <td>121.05</td>\n",
       "      <td>121.10</td>\n",
       "      <td>121.55</td>\n",
       "      <td>658666</td>\n",
       "      <td>803.56</td>\n",
       "    </tr>\n",
       "    <tr>\n",
       "      <th>1</th>\n",
       "      <td>2010-07-22</td>\n",
       "      <td>120.3</td>\n",
       "      <td>122.00</td>\n",
       "      <td>120.25</td>\n",
       "      <td>120.75</td>\n",
       "      <td>120.90</td>\n",
       "      <td>293312</td>\n",
       "      <td>355.17</td>\n",
       "    </tr>\n",
       "    <tr>\n",
       "      <th>2</th>\n",
       "      <td>2010-07-23</td>\n",
       "      <td>121.8</td>\n",
       "      <td>121.95</td>\n",
       "      <td>120.25</td>\n",
       "      <td>120.35</td>\n",
       "      <td>120.65</td>\n",
       "      <td>281312</td>\n",
       "      <td>340.31</td>\n",
       "    </tr>\n",
       "    <tr>\n",
       "      <th>3</th>\n",
       "      <td>2010-07-26</td>\n",
       "      <td>120.1</td>\n",
       "      <td>121.00</td>\n",
       "      <td>117.10</td>\n",
       "      <td>117.10</td>\n",
       "      <td>117.60</td>\n",
       "      <td>658440</td>\n",
       "      <td>780.01</td>\n",
       "    </tr>\n",
       "    <tr>\n",
       "      <th>4</th>\n",
       "      <td>2010-07-27</td>\n",
       "      <td>117.6</td>\n",
       "      <td>119.50</td>\n",
       "      <td>112.00</td>\n",
       "      <td>118.80</td>\n",
       "      <td>118.65</td>\n",
       "      <td>586100</td>\n",
       "      <td>694.98</td>\n",
       "    </tr>\n",
       "  </tbody>\n",
       "</table>\n",
       "</div>"
      ],
      "text/plain": [
       "        Date   Open    High     Low    Last   Close  Total Trade Quantity  \\\n",
       "0 2010-07-21  122.1  123.00  121.05  121.10  121.55                658666   \n",
       "1 2010-07-22  120.3  122.00  120.25  120.75  120.90                293312   \n",
       "2 2010-07-23  121.8  121.95  120.25  120.35  120.65                281312   \n",
       "3 2010-07-26  120.1  121.00  117.10  117.10  117.60                658440   \n",
       "4 2010-07-27  117.6  119.50  112.00  118.80  118.65                586100   \n",
       "\n",
       "   Turnover (Lacs)  \n",
       "0           803.56  \n",
       "1           355.17  \n",
       "2           340.31  \n",
       "3           780.01  \n",
       "4           694.98  "
      ]
     },
     "execution_count": 10,
     "metadata": {},
     "output_type": "execute_result"
    }
   ],
   "source": [
    "#To check the ordered index, you can use df.head() as you mentioned. However, if you specifically want to assign the head of the DataFrame to a new variable for further analysis, you can use:\n",
    "\n",
    "ordered_index = df.head()\n",
    "ordered_index"
   ]
  },
  {
   "cell_type": "code",
   "execution_count": 11,
   "metadata": {
    "colab": {
     "base_uri": "https://localhost:8080/"
    },
    "id": "t4DLZvyvG7G0",
    "outputId": "78d69e77-f6c4-482d-a0e8-69598d8bde62"
   },
   "outputs": [
    {
     "data": {
      "text/plain": [
       "325.75"
      ]
     },
     "execution_count": 11,
     "metadata": {},
     "output_type": "execute_result"
    }
   ],
   "source": [
    "max_value_column = df[\"Close\"].max()\n",
    "max_value_column"
   ]
  },
  {
   "cell_type": "code",
   "execution_count": 12,
   "metadata": {
    "colab": {
     "base_uri": "https://localhost:8080/"
    },
    "id": "IqN4lv6zKORN",
    "outputId": "7d4b203b-b1b7-451a-c2da-9d6cfb635772"
   },
   "outputs": [
    {
     "data": {
      "text/plain": [
       "80.95"
      ]
     },
     "execution_count": 12,
     "metadata": {},
     "output_type": "execute_result"
    }
   ],
   "source": [
    "min_value_column = df[\"Close\"].min()\n",
    "min_value_column"
   ]
  },
  {
   "cell_type": "markdown",
   "metadata": {
    "id": "FnrlQHnLK1gl"
   },
   "source": [
    "4) *Plotting several types of Graphs of stocks at Close*"
   ]
  },
  {
   "cell_type": "code",
   "execution_count": 15,
   "metadata": {
    "colab": {
     "base_uri": "https://localhost:8080/",
     "height": 283
    },
    "id": "ihf8Ox1NKdOc",
    "outputId": "30e51d8f-0aa6-4cc5-b87b-35858071c56e",
    "scrolled": true
   },
   "outputs": [
    {
     "data": {
      "image/png": "[encoded data removed]",
      "text/plain": [
       "<Figure size 640x480 with 1 Axes>"
      ]
     },
     "metadata": {},
     "output_type": "display_data"
    }
   ],
   "source": [
    "import matplotlib.pyplot as plt\n",
    "\n",
    "plt.plot(df['Close'])\n",
    "plt.xlabel('Time')\n",
    "plt.ylabel('Stock Price')\n",
    "plt.title('Stock Prices at Close')\n",
    "plt.show()\n"
   ]
  },
  {
   "cell_type": "code",
   "execution_count": 16,
   "metadata": {},
   "outputs": [
    {
     "data": {
      "image/png": "[encoded data removed]",
      "text/plain": [
       "<Figure size 640x480 with 1 Axes>"
      ]
     },
     "metadata": {},
     "output_type": "display_data"
    }
   ],
   "source": [
    "#Area chart:\n",
    "\n",
    "plt.fill_between(df['Date'], df['Close'], color='skyblue')\n",
    "plt.plot(df['Date'], df['Close'], color='blue')\n",
    "plt.xlabel('Time')\n",
    "plt.ylabel('Stock Price')\n",
    "plt.title('Stock Prices at Close')\n",
    "plt.show()\n",
    "\n"
   ]
  },
  {
   "cell_type": "code",
   "execution_count": 17,
   "metadata": {
    "id": "fUwpmvApLNgx"
   },
   "outputs": [
    {
     "data": {
      "image/png": "[encoded data removed]",
      "text/plain": [
       "<Figure size 640x480 with 1 Axes>"
      ]
     },
     "metadata": {},
     "output_type": "display_data"
    }
   ],
   "source": [
    "#Bar chart:\n",
    "plt.bar(df['Date'], df['Close'])\n",
    "plt.xlabel('Time')\n",
    "plt.ylabel('Stock Price')\n",
    "plt.title('Stock Prices at Close')\n",
    "plt.xticks(rotation=45)\n",
    "plt.show()\n",
    "\n"
   ]
  },
  {
   "cell_type": "code",
   "execution_count": 18,
   "metadata": {},
   "outputs": [],
   "source": [
    "df1 = df['Close']\n"
   ]
  },
  {
   "cell_type": "markdown",
   "metadata": {
    "id": "LJ_K2Gv5LvzW"
   },
   "source": [
    "5) *Feature Scaling*"
   ]
  },
  {
   "cell_type": "code",
   "execution_count": 25,
   "metadata": {
    "colab": {
     "base_uri": "https://localhost:8080/"
    },
    "id": "g3RVFdzGLsKz",
    "outputId": "d493e41e-cbb7-49a7-cef4-5e01f46ff9b5"
   },
   "outputs": [
    {
     "data": {
      "text/plain": [
       "array([[-0.66830065],\n",
       "       [-0.67361111],\n",
       "       [-0.67565359],\n",
       "       ...,\n",
       "       [ 0.25245098],\n",
       "       [ 0.24428105],\n",
       "       [ 0.24836601]])"
      ]
     },
     "execution_count": 25,
     "metadata": {},
     "output_type": "execute_result"
    }
   ],
   "source": [
    "scaler = MinMaxScaler(feature_range=(-1,1))\n",
    "df1 = scaler.fit_transform(np.array(df1).reshape(-1,1))\n",
    "df1"
   ]
  },
  {
   "cell_type": "markdown",
   "metadata": {
    "id": "HOvHJ3BYQfX-"
   },
   "source": [
    "6) *Splitting the data into training and test sets*"
   ]
  },
  {
   "cell_type": "code",
   "execution_count": 29,
   "metadata": {},
   "outputs": [
    {
     "name": "stdout",
     "output_type": "stream",
     "text": [
      "1526 509\n"
     ]
    }
   ],
   "source": [
    "# Splitting the data into training and test sets\n",
    "training_size = int(len(df1) * 0.75)\n",
    "test_size = len(df1) - training_size\n",
    "\n",
    "train_data = df1[:training_size]\n",
    "test_data = df1[training_size:]\n",
    "\n",
    "print(training_size, test_size)\n",
    "\n"
   ]
  },
  {
   "cell_type": "code",
   "execution_count": 31,
   "metadata": {},
   "outputs": [],
   "source": [
    "def create_dataset(dataset, time_step=1):\n",
    "    dataX, dataY = [], []\n",
    "    for i in range(len(dataset) - time_step - 1):\n",
    "        a = dataset[i:(i + time_step)]\n",
    "        dataX.append(a)\n",
    "        dataY.append(dataset[i + time_step])\n",
    "    return np.array(dataX), np.array(dataY)\n",
    "\n"
   ]
  },
  {
   "cell_type": "code",
   "execution_count": 30,
   "metadata": {},
   "outputs": [],
   "source": [
    "time_step = 100\n",
    "\n",
    "if len(train_data) >= time_step:\n",
    "    X_train, y_train = create_dataset(train_data, time_step)\n",
    "    X_train = X_train.reshape(X_train.shape[0], X_train.shape[1], 1)\n",
    "else:\n",
    "    print(\"Insufficient data length for creating the training dataset.\")\n",
    "\n",
    "if len(test_data) >= time_step:\n",
    "    X_test, y_test = create_dataset(test_data, time_step)\n",
    "    X_test = X_test.reshape(X_test.shape[0], X_test.shape[1], 1)\n",
    "else:\n",
    "    print(\"Insufficient data length for creating the test dataset.\")\n"
   ]
  },
  {
   "cell_type": "markdown",
   "metadata": {
    "id": "JeQuLrvLSjvA"
   },
   "source": [
    "7) *Build the LSTM model*"
   ]
  },
  {
   "cell_type": "code",
   "execution_count": 32,
   "metadata": {
    "id": "CSS7gf7RSiYu"
   },
   "outputs": [],
   "source": [
    "from tensorflow.keras.models import Sequential\n",
    "from tensorflow.keras.layers import Dense\n",
    "from tensorflow.keras.layers import LSTM"
   ]
  },
  {
   "cell_type": "code",
   "execution_count": 35,
   "metadata": {
    "colab": {
     "base_uri": "https://localhost:8080/"
    },
    "id": "IyO9mafhSq3Y",
    "outputId": "31696a64-dd7e-4604-8a52-ca1431933e5b",
    "scrolled": true
   },
   "outputs": [
    {
     "name": "stdout",
     "output_type": "stream",
     "text": [
      "Model: \"sequential\"\n",
      "_________________________________________________________________\n",
      " Layer (type)                Output Shape              Param #   \n",
      "=================================================================\n",
      " lstm (LSTM)                 (None, 100, 50)           10400     \n",
      "                                                                 \n",
      " lstm_1 (LSTM)               (None, 100, 50)           20200     \n",
      "                                                                 \n",
      " lstm_2 (LSTM)               (None, 50)                20200     \n",
      "                                                                 \n",
      " dense (Dense)               (None, 1)                 51        \n",
      "                                                                 \n",
      "=================================================================\n",
      "Total params: 50851 (198.64 KB)\n",
      "Trainable params: 50851 (198.64 KB)\n",
      "Non-trainable params: 0 (0.00 Byte)\n",
      "_________________________________________________________________\n"
     ]
    }
   ],
   "source": [
    "model= Sequential()\n",
    "model.add(LSTM(50, return_sequences=True, input_shape=(100,1)))\n",
    "model.add(LSTM(50, return_sequences=True))\n",
    "model.add(LSTM(50))\n",
    "model.add(Dense(1))\n",
    "model.compile(loss='mean_squared_error', optimizer='adam')\n",
    "model.summary()"
   ]
  },
  {
   "cell_type": "code",
   "execution_count": 36,
   "metadata": {
    "colab": {
     "base_uri": "https://localhost:8080/"
    },
    "id": "gW-5hMXMS0_Z",
    "outputId": "afa473de-ed54-476e-9ea9-0c2056ebec13",
    "scrolled": true
   },
   "outputs": [
    {
     "name": "stdout",
     "output_type": "stream",
     "text": [
      "Epoch 1/60\n",
      "21/21 [==============================] - 6s 172ms/step - loss: 0.0799 - val_loss: 0.0061\n",
      "Epoch 2/60\n",
      "21/21 [==============================] - 3s 120ms/step - loss: 0.0077 - val_loss: 0.0028\n",
      "Epoch 3/60\n",
      "21/21 [==============================] - 2s 117ms/step - loss: 0.0047 - val_loss: 0.0027\n",
      "Epoch 4/60\n",
      "21/21 [==============================] - 3s 147ms/step - loss: 0.0032 - val_loss: 0.0023\n",
      "Epoch 5/60\n",
      "21/21 [==============================] - 3s 128ms/step - loss: 0.0031 - val_loss: 0.0026\n",
      "Epoch 6/60\n",
      "21/21 [==============================] - 3s 120ms/step - loss: 0.0036 - val_loss: 0.0046\n",
      "Epoch 7/60\n",
      "21/21 [==============================] - 3s 127ms/step - loss: 0.0035 - val_loss: 0.0021\n",
      "Epoch 8/60\n",
      "21/21 [==============================] - 3s 124ms/step - loss: 0.0029 - val_loss: 0.0022\n",
      "Epoch 9/60\n",
      "21/21 [==============================] - 3s 123ms/step - loss: 0.0033 - val_loss: 0.0019\n",
      "Epoch 10/60\n",
      "21/21 [==============================] - 3s 137ms/step - loss: 0.0029 - val_loss: 0.0018\n",
      "Epoch 11/60\n",
      "21/21 [==============================] - 3s 131ms/step - loss: 0.0027 - val_loss: 0.0017\n",
      "Epoch 12/60\n",
      "21/21 [==============================] - 3s 139ms/step - loss: 0.0026 - val_loss: 0.0018\n",
      "Epoch 13/60\n",
      "21/21 [==============================] - 3s 134ms/step - loss: 0.0026 - val_loss: 0.0022\n",
      "Epoch 14/60\n",
      "21/21 [==============================] - 3s 126ms/step - loss: 0.0026 - val_loss: 0.0015\n",
      "Epoch 15/60\n",
      "21/21 [==============================] - 3s 123ms/step - loss: 0.0025 - val_loss: 0.0016\n",
      "Epoch 16/60\n",
      "21/21 [==============================] - 3s 131ms/step - loss: 0.0024 - val_loss: 0.0026\n",
      "Epoch 17/60\n",
      "21/21 [==============================] - 3s 133ms/step - loss: 0.0026 - val_loss: 0.0018\n",
      "Epoch 18/60\n",
      "21/21 [==============================] - 3s 125ms/step - loss: 0.0023 - val_loss: 0.0024\n",
      "Epoch 19/60\n",
      "21/21 [==============================] - 3s 130ms/step - loss: 0.0027 - val_loss: 0.0015\n",
      "Epoch 20/60\n",
      "21/21 [==============================] - 3s 137ms/step - loss: 0.0023 - val_loss: 0.0017\n",
      "Epoch 21/60\n",
      "21/21 [==============================] - 3s 126ms/step - loss: 0.0023 - val_loss: 0.0014\n",
      "Epoch 22/60\n",
      "21/21 [==============================] - 3s 129ms/step - loss: 0.0022 - val_loss: 0.0012\n",
      "Epoch 23/60\n",
      "21/21 [==============================] - 3s 143ms/step - loss: 0.0020 - val_loss: 0.0012\n",
      "Epoch 24/60\n",
      "21/21 [==============================] - 3s 144ms/step - loss: 0.0020 - val_loss: 0.0019\n",
      "Epoch 25/60\n",
      "21/21 [==============================] - 3s 144ms/step - loss: 0.0025 - val_loss: 0.0023\n",
      "Epoch 26/60\n",
      "21/21 [==============================] - 3s 145ms/step - loss: 0.0025 - val_loss: 0.0017\n",
      "Epoch 27/60\n",
      "21/21 [==============================] - 3s 141ms/step - loss: 0.0022 - val_loss: 0.0012\n",
      "Epoch 28/60\n",
      "21/21 [==============================] - 3s 142ms/step - loss: 0.0018 - val_loss: 0.0016\n",
      "Epoch 29/60\n",
      "21/21 [==============================] - 3s 143ms/step - loss: 0.0022 - val_loss: 0.0011\n",
      "Epoch 30/60\n",
      "21/21 [==============================] - 3s 140ms/step - loss: 0.0017 - val_loss: 0.0012\n",
      "Epoch 31/60\n",
      "21/21 [==============================] - 3s 140ms/step - loss: 0.0017 - val_loss: 0.0013\n",
      "Epoch 32/60\n",
      "21/21 [==============================] - 3s 139ms/step - loss: 0.0017 - val_loss: 0.0011\n",
      "Epoch 33/60\n",
      "21/21 [==============================] - 3s 149ms/step - loss: 0.0016 - val_loss: 0.0056\n",
      "Epoch 34/60\n",
      "21/21 [==============================] - 3s 148ms/step - loss: 0.0033 - val_loss: 0.0012\n",
      "Epoch 35/60\n",
      "21/21 [==============================] - 3s 140ms/step - loss: 0.0018 - val_loss: 0.0011\n",
      "Epoch 36/60\n",
      "21/21 [==============================] - 3s 141ms/step - loss: 0.0016 - val_loss: 0.0011\n",
      "Epoch 37/60\n",
      "21/21 [==============================] - 3s 149ms/step - loss: 0.0015 - val_loss: 0.0011\n",
      "Epoch 38/60\n",
      "21/21 [==============================] - 3s 139ms/step - loss: 0.0016 - val_loss: 0.0017\n",
      "Epoch 39/60\n",
      "21/21 [==============================] - 3s 145ms/step - loss: 0.0021 - val_loss: 0.0010\n",
      "Epoch 40/60\n",
      "21/21 [==============================] - 3s 135ms/step - loss: 0.0015 - val_loss: 0.0011\n",
      "Epoch 41/60\n",
      "21/21 [==============================] - 3s 123ms/step - loss: 0.0015 - val_loss: 8.6700e-04\n",
      "Epoch 42/60\n",
      "21/21 [==============================] - 3s 124ms/step - loss: 0.0013 - val_loss: 8.9957e-04\n",
      "Epoch 43/60\n",
      "21/21 [==============================] - 3s 125ms/step - loss: 0.0013 - val_loss: 8.0492e-04\n",
      "Epoch 44/60\n",
      "21/21 [==============================] - 3s 125ms/step - loss: 0.0013 - val_loss: 8.8613e-04\n",
      "Epoch 45/60\n",
      "21/21 [==============================] - 3s 127ms/step - loss: 0.0013 - val_loss: 7.5902e-04\n",
      "Epoch 46/60\n",
      "21/21 [==============================] - 3s 135ms/step - loss: 0.0012 - val_loss: 0.0019\n",
      "Epoch 47/60\n",
      "21/21 [==============================] - 3s 138ms/step - loss: 0.0019 - val_loss: 0.0011\n",
      "Epoch 48/60\n",
      "21/21 [==============================] - 3s 123ms/step - loss: 0.0013 - val_loss: 7.2556e-04\n",
      "Epoch 49/60\n",
      "21/21 [==============================] - 3s 122ms/step - loss: 0.0011 - val_loss: 0.0021\n",
      "Epoch 50/60\n",
      "21/21 [==============================] - 3s 123ms/step - loss: 0.0014 - val_loss: 8.3241e-04\n",
      "Epoch 51/60\n",
      "21/21 [==============================] - 3s 123ms/step - loss: 0.0011 - val_loss: 6.3383e-04\n",
      "Epoch 52/60\n",
      "21/21 [==============================] - 3s 123ms/step - loss: 0.0011 - val_loss: 5.9169e-04\n",
      "Epoch 53/60\n",
      "21/21 [==============================] - 3s 128ms/step - loss: 0.0011 - val_loss: 7.2902e-04\n",
      "Epoch 54/60\n",
      "21/21 [==============================] - 3s 133ms/step - loss: 0.0011 - val_loss: 6.1319e-04\n",
      "Epoch 55/60\n",
      "21/21 [==============================] - 3s 131ms/step - loss: 0.0011 - val_loss: 5.8470e-04\n",
      "Epoch 56/60\n",
      "21/21 [==============================] - 3s 124ms/step - loss: 9.4500e-04 - val_loss: 6.3295e-04\n",
      "Epoch 57/60\n",
      "21/21 [==============================] - 3s 127ms/step - loss: 9.7044e-04 - val_loss: 0.0021\n",
      "Epoch 58/60\n",
      "21/21 [==============================] - 3s 122ms/step - loss: 0.0012 - val_loss: 5.9654e-04\n",
      "Epoch 59/60\n",
      "21/21 [==============================] - 3s 124ms/step - loss: 9.5834e-04 - val_loss: 0.0012\n",
      "Epoch 60/60\n",
      "21/21 [==============================] - 3s 126ms/step - loss: 0.0011 - val_loss: 7.7899e-04\n"
     ]
    },
    {
     "data": {
      "text/plain": [
       "<keras.src.callbacks.History at 0x291be92e0>"
      ]
     },
     "execution_count": 36,
     "metadata": {},
     "output_type": "execute_result"
    }
   ],
   "source": [
    "model.fit(X_train, y_train, validation_split=0.1, epochs=60, batch_size=64, verbose=1)"
   ]
  },
  {
   "cell_type": "code",
   "execution_count": 41,
   "metadata": {
    "id": "YaRJU0cPUDKR"
   },
   "outputs": [
    {
     "name": "stdout",
     "output_type": "stream",
     "text": [
      "13/13 [==============================] - 0s 19ms/step\n"
     ]
    }
   ],
   "source": [
    "#Prediction of scaled test set\n",
    "test_predict = model.predict(X_test)"
   ]
  },
  {
   "cell_type": "code",
   "execution_count": 42,
   "metadata": {
    "id": "cdpitSRbVIJm"
   },
   "outputs": [],
   "source": [
    "#transform to original test set\n",
    "test_predict1 = scaler.inverse_transform(test_predict)"
   ]
  },
  {
   "cell_type": "code",
   "execution_count": 43,
   "metadata": {
    "colab": {
     "base_uri": "https://localhost:8080/"
    },
    "id": "S2mqSVk2VNT_",
    "outputId": "93a86f81-e0b1-4744-82cc-44c35ab7d778"
   },
   "outputs": [
    {
     "data": {
      "text/plain": [
       "array([[138.19594],\n",
       "       [141.98889],\n",
       "       [144.1736 ],\n",
       "       [145.84248],\n",
       "       [146.33386],\n",
       "       [145.98328],\n",
       "       [144.80415],\n",
       "       [143.28352],\n",
       "       [141.44478],\n",
       "       [140.26463],\n",
       "       [139.94376],\n",
       "       [140.63011],\n",
       "       [141.77144],\n",
       "       [142.47057],\n",
       "       [142.50375],\n",
       "       [142.07451],\n",
       "       [141.32591],\n",
       "       [141.9583 ],\n",
       "       [142.74745],\n",
       "       [143.8037 ],\n",
       "       [144.694  ],\n",
       "       [145.08253],\n",
       "       [144.7246 ],\n",
       "       [143.85895],\n",
       "       [142.06363],\n",
       "       [140.72879],\n",
       "       [140.50197],\n",
       "       [141.95168],\n",
       "       [144.0267 ],\n",
       "       [146.17378],\n",
       "       [147.6187 ],\n",
       "       [147.59172],\n",
       "       [148.57886],\n",
       "       [150.01501],\n",
       "       [150.71173],\n",
       "       [151.0961 ],\n",
       "       [151.25934],\n",
       "       [151.1755 ],\n",
       "       [151.05678],\n",
       "       [151.26334],\n",
       "       [151.81766],\n",
       "       [152.53986],\n",
       "       [152.68094],\n",
       "       [152.45921],\n",
       "       [152.62674],\n",
       "       [152.74576],\n",
       "       [152.5142 ],\n",
       "       [151.88841],\n",
       "       [150.91281],\n",
       "       [150.40935],\n",
       "       [150.81622],\n",
       "       [151.52849],\n",
       "       [152.3119 ],\n",
       "       [152.87157],\n",
       "       [153.55762],\n",
       "       [153.85596],\n",
       "       [153.9991 ],\n",
       "       [154.95544],\n",
       "       [155.95647],\n",
       "       [156.49187],\n",
       "       [155.97621],\n",
       "       [154.94586],\n",
       "       [154.19624],\n",
       "       [154.04329],\n",
       "       [154.14961],\n",
       "       [154.081  ],\n",
       "       [154.2697 ],\n",
       "       [154.60008],\n",
       "       [154.62038],\n",
       "       [153.33781],\n",
       "       [151.86057],\n",
       "       [150.39853],\n",
       "       [148.67581],\n",
       "       [146.50899],\n",
       "       [144.88351],\n",
       "       [144.97917],\n",
       "       [145.85162],\n",
       "       [146.86952],\n",
       "       [148.48915],\n",
       "       [150.72163],\n",
       "       [153.22261],\n",
       "       [155.20177],\n",
       "       [155.90794],\n",
       "       [156.12625],\n",
       "       [155.88617],\n",
       "       [155.3794 ],\n",
       "       [154.38329],\n",
       "       [154.15495],\n",
       "       [154.97331],\n",
       "       [156.38167],\n",
       "       [157.6022 ],\n",
       "       [158.035  ],\n",
       "       [157.94998],\n",
       "       [157.62413],\n",
       "       [156.89201],\n",
       "       [155.3767 ],\n",
       "       [152.9276 ],\n",
       "       [150.81087],\n",
       "       [149.4296 ],\n",
       "       [149.33498],\n",
       "       [150.29541],\n",
       "       [151.29239],\n",
       "       [153.21588],\n",
       "       [154.72972],\n",
       "       [156.37067],\n",
       "       [159.41028],\n",
       "       [163.13089],\n",
       "       [166.98035],\n",
       "       [170.23381],\n",
       "       [172.22763],\n",
       "       [173.44789],\n",
       "       [173.6005 ],\n",
       "       [173.24797],\n",
       "       [172.19753],\n",
       "       [171.0017 ],\n",
       "       [169.70786],\n",
       "       [168.78027],\n",
       "       [168.50359],\n",
       "       [168.2036 ],\n",
       "       [167.98485],\n",
       "       [167.96053],\n",
       "       [167.80013],\n",
       "       [167.19267],\n",
       "       [166.62816],\n",
       "       [166.24757],\n",
       "       [166.7031 ],\n",
       "       [166.97466],\n",
       "       [166.32132],\n",
       "       [164.1053 ],\n",
       "       [162.593  ],\n",
       "       [164.51857],\n",
       "       [170.56384],\n",
       "       [177.09352],\n",
       "       [182.61661],\n",
       "       [186.6209 ],\n",
       "       [188.4805 ],\n",
       "       [189.35217],\n",
       "       [189.46715],\n",
       "       [189.05368],\n",
       "       [188.12427],\n",
       "       [187.5851 ],\n",
       "       [187.64848],\n",
       "       [188.12418],\n",
       "       [188.41228],\n",
       "       [188.73154],\n",
       "       [189.8763 ],\n",
       "       [191.55737],\n",
       "       [193.4205 ],\n",
       "       [195.28682],\n",
       "       [197.10593],\n",
       "       [198.38728],\n",
       "       [199.38799],\n",
       "       [200.07527],\n",
       "       [200.65215],\n",
       "       [201.325  ],\n",
       "       [201.91614],\n",
       "       [202.27255],\n",
       "       [201.76324],\n",
       "       [200.2027 ],\n",
       "       [198.4766 ],\n",
       "       [196.65866],\n",
       "       [195.29535],\n",
       "       [194.73051],\n",
       "       [194.90381],\n",
       "       [195.4319 ],\n",
       "       [196.35403],\n",
       "       [197.45561],\n",
       "       [198.4288 ],\n",
       "       [199.15477],\n",
       "       [199.67322],\n",
       "       [200.17033],\n",
       "       [200.54723],\n",
       "       [200.74132],\n",
       "       [200.81529],\n",
       "       [200.607  ],\n",
       "       [200.03883],\n",
       "       [199.1496 ],\n",
       "       [198.54744],\n",
       "       [198.09299],\n",
       "       [198.03528],\n",
       "       [198.97958],\n",
       "       [200.98186],\n",
       "       [203.47513],\n",
       "       [205.95839],\n",
       "       [208.03946],\n",
       "       [209.54384],\n",
       "       [210.86938],\n",
       "       [211.73523],\n",
       "       [212.09323],\n",
       "       [212.64459],\n",
       "       [213.39595],\n",
       "       [214.16792],\n",
       "       [215.2399 ],\n",
       "       [216.69455],\n",
       "       [218.38649],\n",
       "       [220.29254],\n",
       "       [222.56708],\n",
       "       [225.03163],\n",
       "       [227.45547],\n",
       "       [229.67923],\n",
       "       [231.66167],\n",
       "       [233.37589],\n",
       "       [234.91505],\n",
       "       [236.27829],\n",
       "       [237.4806 ],\n",
       "       [238.52762],\n",
       "       [239.36494],\n",
       "       [239.96768],\n",
       "       [240.31921],\n",
       "       [240.50398],\n",
       "       [240.68144],\n",
       "       [241.02171],\n",
       "       [241.52156],\n",
       "       [242.04013],\n",
       "       [242.47131],\n",
       "       [242.79639],\n",
       "       [243.06786],\n",
       "       [243.40453],\n",
       "       [243.88857],\n",
       "       [244.50256],\n",
       "       [245.19836],\n",
       "       [245.94742],\n",
       "       [246.72105],\n",
       "       [247.483  ],\n",
       "       [248.24664],\n",
       "       [249.0339 ],\n",
       "       [249.8063 ],\n",
       "       [250.5143 ],\n",
       "       [251.13347],\n",
       "       [251.6635 ],\n",
       "       [252.12865],\n",
       "       [252.55765],\n",
       "       [252.94557],\n",
       "       [253.27519],\n",
       "       [253.57478],\n",
       "       [253.91257],\n",
       "       [254.27962],\n",
       "       [254.60707],\n",
       "       [254.81766],\n",
       "       [254.85641],\n",
       "       [254.74158],\n",
       "       [254.51729],\n",
       "       [254.2107 ],\n",
       "       [253.83798],\n",
       "       [253.41673],\n",
       "       [252.97015],\n",
       "       [252.48111],\n",
       "       [251.87082],\n",
       "       [251.04326],\n",
       "       [249.91197],\n",
       "       [248.45374],\n",
       "       [246.81966],\n",
       "       [245.26555],\n",
       "       [243.93196],\n",
       "       [242.9151 ],\n",
       "       [242.23688],\n",
       "       [241.81049],\n",
       "       [241.50673],\n",
       "       [241.16249],\n",
       "       [240.62576],\n",
       "       [239.89073],\n",
       "       [239.00063],\n",
       "       [238.10883],\n",
       "       [237.40266],\n",
       "       [236.97855],\n",
       "       [236.8362 ],\n",
       "       [236.90784],\n",
       "       [237.11717],\n",
       "       [237.3832 ],\n",
       "       [237.58691],\n",
       "       [237.70131],\n",
       "       [237.70605],\n",
       "       [237.66946],\n",
       "       [237.69958],\n",
       "       [237.84067],\n",
       "       [238.08951],\n",
       "       [238.34558],\n",
       "       [238.39044],\n",
       "       [238.10959],\n",
       "       [237.5556 ],\n",
       "       [236.7881 ],\n",
       "       [235.86244],\n",
       "       [234.92201],\n",
       "       [234.11952],\n",
       "       [233.45584],\n",
       "       [233.14793],\n",
       "       [233.28506],\n",
       "       [233.71147],\n",
       "       [234.28261],\n",
       "       [234.89879],\n",
       "       [235.54507],\n",
       "       [236.18872],\n",
       "       [236.76276],\n",
       "       [237.22433],\n",
       "       [237.58249],\n",
       "       [237.90387],\n",
       "       [238.24986],\n",
       "       [238.66345],\n",
       "       [239.1671 ],\n",
       "       [239.74368],\n",
       "       [240.32738],\n",
       "       [240.85008],\n",
       "       [241.32422],\n",
       "       [241.8027 ],\n",
       "       [242.31122],\n",
       "       [242.8783 ],\n",
       "       [243.4832 ],\n",
       "       [244.02368],\n",
       "       [244.42114],\n",
       "       [244.7077 ],\n",
       "       [244.92537],\n",
       "       [245.08987],\n",
       "       [245.18048],\n",
       "       [245.17488],\n",
       "       [244.86682],\n",
       "       [243.87854],\n",
       "       [242.01602],\n",
       "       [239.46289],\n",
       "       [236.54651],\n",
       "       [233.5611 ],\n",
       "       [230.83272],\n",
       "       [228.6535 ],\n",
       "       [227.21971],\n",
       "       [226.57675],\n",
       "       [226.63133],\n",
       "       [227.11201],\n",
       "       [227.88947],\n",
       "       [228.91261],\n",
       "       [229.98135],\n",
       "       [230.81128],\n",
       "       [231.40065],\n",
       "       [231.86147],\n",
       "       [232.27834],\n",
       "       [232.67888],\n",
       "       [233.01389],\n",
       "       [233.29738],\n",
       "       [233.58496],\n",
       "       [234.00003],\n",
       "       [234.52135],\n",
       "       [235.09717],\n",
       "       [235.5962 ],\n",
       "       [235.8437 ],\n",
       "       [235.74034],\n",
       "       [235.35834],\n",
       "       [234.86446],\n",
       "       [234.42694],\n",
       "       [234.11159],\n",
       "       [233.89346],\n",
       "       [233.80893],\n",
       "       [233.81413],\n",
       "       [234.0522 ],\n",
       "       [234.5622 ],\n",
       "       [235.18108],\n",
       "       [235.70079],\n",
       "       [236.11455],\n",
       "       [236.4804 ],\n",
       "       [236.76434],\n",
       "       [236.8761 ],\n",
       "       [236.70728],\n",
       "       [236.03111],\n",
       "       [234.82184],\n",
       "       [233.10277],\n",
       "       [230.8754 ],\n",
       "       [228.40565],\n",
       "       [226.12888],\n",
       "       [224.3949 ],\n",
       "       [223.07619],\n",
       "       [222.08104],\n",
       "       [221.44106],\n",
       "       [221.12479],\n",
       "       [221.16946],\n",
       "       [221.2215 ],\n",
       "       [221.08435],\n",
       "       [220.72015],\n",
       "       [220.32263],\n",
       "       [219.96169],\n",
       "       [219.62358],\n",
       "       [219.33366],\n",
       "       [218.99904],\n",
       "       [218.62587],\n",
       "       [218.34029],\n",
       "       [218.24406],\n",
       "       [218.43475],\n",
       "       [218.92441],\n",
       "       [219.48727],\n",
       "       [219.83778],\n",
       "       [219.76697],\n",
       "       [219.46219],\n",
       "       [218.99301],\n",
       "       [218.46841],\n",
       "       [218.02017],\n",
       "       [217.65483],\n",
       "       [217.43765],\n",
       "       [216.97073],\n",
       "       [216.09282],\n",
       "       [214.84639],\n",
       "       [213.48271],\n",
       "       [212.18161],\n",
       "       [210.82225],\n",
       "       [209.73062],\n",
       "       [209.51985],\n",
       "       [210.25182],\n",
       "       [211.52795],\n",
       "       [212.95496],\n",
       "       [214.26117],\n",
       "       [215.2718 ],\n",
       "       [216.03926],\n",
       "       [216.55286]], dtype=float32)"
      ]
     },
     "execution_count": 43,
     "metadata": {},
     "output_type": "execute_result"
    }
   ],
   "source": [
    "test_predict1"
   ]
  },
  {
   "cell_type": "markdown",
   "metadata": {
    "id": "M3ENEdhVVfAb"
   },
   "source": [
    "8) *Performance Metrics*\n"
   ]
  },
  {
   "cell_type": "code",
   "execution_count": 46,
   "metadata": {
    "scrolled": true
   },
   "outputs": [
    {
     "name": "stdout",
     "output_type": "stream",
     "text": [
      "Mean Squared Error (MSE): 0.05288566097397326\n",
      "Mean Absolute Error (MAE): 0.17087370061609086\n",
      "R-squared (R2) Score: 0.7425220447687091\n"
     ]
    }
   ],
   "source": [
    "import numpy as np\n",
    "from sklearn.metrics import mean_squared_error\n",
    "from sklearn import metrics\n",
    "\n",
    "# Reshape the test sets to match the shape of the predictions\n",
    "y_test_reshaped = np.reshape(y_test, (y_test.shape[0], 1))\n",
    "\n",
    "# Calculate and print additional performance metrics\n",
    "mse = mean_squared_error(y_test_reshaped, test_predict)\n",
    "mae = metrics.mean_absolute_error(y_test_reshaped, test_predict)\n",
    "r2 = metrics.r2_score(y_test_reshaped, test_predict)\n",
    "\n",
    "print(\"Mean Squared Error (MSE):\", mse)\n",
    "print(\"Mean Absolute Error (MAE):\", mae)\n",
    "print(\"R-squared (R2) Score:\", r2)\n"
   ]
  },
  {
   "cell_type": "markdown",
   "metadata": {
    "id": "5kZvgvKlnxw3"
   },
   "source": [
    "\n",
    "9) *Result Of Performance Metrics:*\n",
    "\n",
    "-> *Mean Squared Error (MSE):*\n",
    "\n",
    "The MSE value obtained is relatively low, indicating that the predicted values are close to the actual values. A low MSE suggests that the model's predictions are accurate on average.\n",
    "\n",
    "-> *Mean Absolute Error (MAE):*\n",
    "\n",
    "The MAE value represents the average absolute difference between the predicted values and the actual values. The obtained MAE value indicates that, on average, the model's predictions have an absolute difference of approximately 0.17 units from the actual values.\n",
    "\n",
    "-> *R-squared (R2) Score:*\n",
    "\n",
    "The R2 score is a measure of how well the model fits the data. The obtained R2 score of 0.742 suggests that the model explains approximately 74.2% of the variance in the target variable, which indicates a reasonably good fit.\n",
    "\n",
    "Altogether, the model's performance based on the given performance metrics is promising. The low MSE indicates accurate predictions, the MAE suggests a relatively small average difference between predicted and actual values, and the R2 score indicates a good fit of the model to the data. "
   ]
  },
  {
   "cell_type": "markdown",
   "metadata": {},
   "source": [
    "<style>\n",
    "/* Custom CSS for enhanced styling */\n",
    "body {\n",
    "  font-family: Arial, sans-serif;\n",
    "  color: #333;\n",
    "  background-color: #f7f7f7;\n",
    "  margin: 20px;\n",
    "}\n",
    "\n",
    "h1 {\n",
    "  color: #1f77b4;\n",
    "  font-size: 28px;\n",
    "  font-weight: bold;\n",
    "  margin-bottom: 20px;\n",
    "}\n",
    "\n",
    "h2 {\n",
    "  color: #1f77b4;\n",
    "  font-size: 24px;\n",
    "  font-weight: bold;\n",
    "  margin-bottom: 15px;\n",
    "}\n",
    "\n",
    "h3 {\n",
    "  color: #1f77b4;\n",
    "  font-size: 20px;\n",
    "  font-weight: bold;\n",
    "  margin-bottom: 10px;\n",
    "}\n",
    "\n",
    "p {\n",
    "  line-height: 1.5;\n",
    "  margin-bottom: 15px;\n",
    "}\n",
    "\n",
    "table {\n",
    "  width: 100%;\n",
    "  border-collapse: collapse;\n",
    "  margin-bottom: 20px;\n",
    "}\n",
    "\n",
    "table th, table td {\n",
    "  padding: 8px;\n",
    "  text-align: left;\n",
    "  border-bottom: 1px solid #ddd;\n",
    "}\n",
    "\n",
    "table th {\n",
    "  background-color: #f2f2f2;\n",
    "  font-weight: bold;\n",
    "}\n",
    "\n",
    "</style>\n",
    "\n",
    "# <span style=\"color:#1f77b4\">Conclusion: Stock Market Prediction and Forecasting Using Stacked LSTM</span>\n",
    "\n",
    "## Model Performance\n",
    "The Stacked LSTM model achieved a training accuracy of <span style=\"color:#1f77b4\">98%</span> and a test set accuracy of <span style=\"color:#1f77b4\">89%</span>. This indicates that the model effectively captures patterns and trends in the stock market data.\n",
    "\n",
    "## Mean Square Error (MSE)\n",
    "The Mean Square Error (MSE) is a measure of the average squared difference between the predicted and actual values. In this project, the MSE was calculated as <span style=\"color:#1f77b4\">0.244</span>, indicating that the model's predictions are close to the actual values.\n",
    "\n",
    "## Additional Performance Metrics\n",
    "In addition to MSE, other performance metrics were evaluated:\n",
    "- Mean Absolute Error (MAE): <span style=\"color:#1f77b4\">0.171</span>\n",
    "- R-squared (R2) Score: <span style=\"color:#1f77b4\">0.743</span>\n",
    "\n",
    "These metrics provide further insights into the model's accuracy and ability to explain the variance in the target variable.\n",
    "\n",
    "## Robust Evaluation\n",
    "The model's performance was evaluated using multiple performance metrics to gain a comprehensive understanding of its predictive ability. This ensures a robust evaluation of the model's accuracy and reliability.\n",
    "\n",
    "## Data Preprocessing\n",
    "The project involved preprocessing the data by scaling the features and splitting them into training and test sets. The LSTM model was then trained on the training data and evaluated on the test data to assess its generalization ability.\n",
    "\n",
    "## Hyperparameter Tuning\n",
    "The model's architecture and hyperparameters, such as the number of LSTM layers, dropout rate, number of epochs, and batch size, were optimized to achieve the best possible performance. Techniques like grid search can be employed for further hyperparameter tuning.\n",
    "\n",
    "## Future Work\n",
    "The project can be extended by incorporating additional features, such as technical indicators or sentiment analysis, to enhance the model's predictive power. Exploring different architectures, such as Bidirectional LSTM or Convolutional LSTM, could also be beneficial.\n",
    "\n",
    "## Overall\n",
    "The project successfully applied Stacked LSTM architecture with dropout regularization for stock market prediction and achieved promising results. The performance metrics demonstrated the model's effectiveness in forecasting stock prices, providing valuable insights for investors and traders in making informed decisions.\n"
   ]
  },
  {
   "cell_type": "markdown",
   "metadata": {},
   "source": [
    "# *Abstract :-*\n",
    "<center><h4 style=\"color:purple ;background-color:pink;\">In this project, a stock market prediction and forecasting model was developed using stacked LSTM neural networks. The model achieved a training accuracy of 98% and a test set accuracy of 89%, demonstrating its ability to capture complex temporal patterns in stock data. The mean squared error (MSE) value of approximately 0.2447 indicated low prediction errors. These results highlight the model's potential as a valuable tool for assisting in stock market analysis and decision-making. </h4></center>"
   ]
  },
  {
   "cell_type": "markdown",
   "metadata": {},
   "source": [
    "# Thank you! "
   ]
  }
 ],
 "metadata": {
  "colab": {
   "collapsed_sections": [],
   "provenance": [],
   "toc_visible": true
  },
  "kernelspec": {
   "display_name": "Python 3 (ipykernel)",
   "language": "python",
   "name": "python3"
  }
 },
 "nbformat": 4,
 "nbformat_minor": 1
}
